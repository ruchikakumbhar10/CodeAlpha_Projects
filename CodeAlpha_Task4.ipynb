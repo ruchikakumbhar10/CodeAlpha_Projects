{
 "cells": [
  {
   "cell_type": "markdown",
   "id": "82b7f349-3ff9-4547-a71e-2292f3dc7b9b",
   "metadata": {},
   "source": [
    "## CodeAlpha Task 4"
   ]
  },
  {
   "cell_type": "markdown",
   "id": "3a8c1d30-c382-46a1-b027-ef7d49dfae89",
   "metadata": {},
   "source": [
    "## SENTIMENT ANALYSIS"
   ]
  },
  {
   "cell_type": "code",
   "execution_count": 8,
   "id": "1447d5ad-f64e-471f-a7cd-582b874b5629",
   "metadata": {},
   "outputs": [],
   "source": [
    "from textblob import TextBlob\n",
    "import pandas as pd"
   ]
  },
  {
   "cell_type": "code",
   "execution_count": 17,
   "id": "862346a1-41b4-4df2-b65e-035290b023dc",
   "metadata": {},
   "outputs": [
    {
     "data": {
      "text/html": [
       "<div>\n",
       "<style scoped>\n",
       "    .dataframe tbody tr th:only-of-type {\n",
       "        vertical-align: middle;\n",
       "    }\n",
       "\n",
       "    .dataframe tbody tr th {\n",
       "        vertical-align: top;\n",
       "    }\n",
       "\n",
       "    .dataframe thead th {\n",
       "        text-align: right;\n",
       "    }\n",
       "</style>\n",
       "<table border=\"1\" class=\"dataframe\">\n",
       "  <thead>\n",
       "    <tr style=\"text-align: right;\">\n",
       "      <th></th>\n",
       "      <th>Quote</th>\n",
       "      <th>Author</th>\n",
       "      <th>Tags</th>\n",
       "    </tr>\n",
       "  </thead>\n",
       "  <tbody>\n",
       "    <tr>\n",
       "      <th>0</th>\n",
       "      <td>“The world as we have created it is a process ...</td>\n",
       "      <td>Albert Einstein</td>\n",
       "      <td>change, deep-thoughts, thinking, world</td>\n",
       "    </tr>\n",
       "    <tr>\n",
       "      <th>1</th>\n",
       "      <td>“It is our choices, Harry, that show what we t...</td>\n",
       "      <td>J.K. Rowling</td>\n",
       "      <td>abilities, choices</td>\n",
       "    </tr>\n",
       "    <tr>\n",
       "      <th>2</th>\n",
       "      <td>“There are only two ways to live your life. On...</td>\n",
       "      <td>Albert Einstein</td>\n",
       "      <td>inspirational, life, live, miracle, miracles</td>\n",
       "    </tr>\n",
       "    <tr>\n",
       "      <th>3</th>\n",
       "      <td>“The person, be it gentleman or lady, who has ...</td>\n",
       "      <td>Jane Austen</td>\n",
       "      <td>aliteracy, books, classic, humor</td>\n",
       "    </tr>\n",
       "    <tr>\n",
       "      <th>4</th>\n",
       "      <td>“Imperfection is beauty, madness is genius and...</td>\n",
       "      <td>Marilyn Monroe</td>\n",
       "      <td>be-yourself, inspirational</td>\n",
       "    </tr>\n",
       "    <tr>\n",
       "      <th>5</th>\n",
       "      <td>“Try not to become a man of success. Rather be...</td>\n",
       "      <td>Albert Einstein</td>\n",
       "      <td>adulthood, success, value</td>\n",
       "    </tr>\n",
       "    <tr>\n",
       "      <th>6</th>\n",
       "      <td>“It is better to be hated for what you are tha...</td>\n",
       "      <td>André Gide</td>\n",
       "      <td>life, love</td>\n",
       "    </tr>\n",
       "    <tr>\n",
       "      <th>7</th>\n",
       "      <td>“I have not failed. I've just found 10,000 way...</td>\n",
       "      <td>Thomas A. Edison</td>\n",
       "      <td>edison, failure, inspirational, paraphrased</td>\n",
       "    </tr>\n",
       "    <tr>\n",
       "      <th>8</th>\n",
       "      <td>“A woman is like a tea bag; you never know how...</td>\n",
       "      <td>Eleanor Roosevelt</td>\n",
       "      <td>misattributed-eleanor-roosevelt</td>\n",
       "    </tr>\n",
       "    <tr>\n",
       "      <th>9</th>\n",
       "      <td>“A day without sunshine is like, you know, nig...</td>\n",
       "      <td>Steve Martin</td>\n",
       "      <td>humor, obvious, simile</td>\n",
       "    </tr>\n",
       "  </tbody>\n",
       "</table>\n",
       "</div>"
      ],
      "text/plain": [
       "                                               Quote             Author  \\\n",
       "0  “The world as we have created it is a process ...    Albert Einstein   \n",
       "1  “It is our choices, Harry, that show what we t...       J.K. Rowling   \n",
       "2  “There are only two ways to live your life. On...    Albert Einstein   \n",
       "3  “The person, be it gentleman or lady, who has ...        Jane Austen   \n",
       "4  “Imperfection is beauty, madness is genius and...     Marilyn Monroe   \n",
       "5  “Try not to become a man of success. Rather be...    Albert Einstein   \n",
       "6  “It is better to be hated for what you are tha...         André Gide   \n",
       "7  “I have not failed. I've just found 10,000 way...   Thomas A. Edison   \n",
       "8  “A woman is like a tea bag; you never know how...  Eleanor Roosevelt   \n",
       "9  “A day without sunshine is like, you know, nig...       Steve Martin   \n",
       "\n",
       "                                           Tags  \n",
       "0        change, deep-thoughts, thinking, world  \n",
       "1                            abilities, choices  \n",
       "2  inspirational, life, live, miracle, miracles  \n",
       "3              aliteracy, books, classic, humor  \n",
       "4                    be-yourself, inspirational  \n",
       "5                     adulthood, success, value  \n",
       "6                                    life, love  \n",
       "7   edison, failure, inspirational, paraphrased  \n",
       "8               misattributed-eleanor-roosevelt  \n",
       "9                        humor, obvious, simile  "
      ]
     },
     "execution_count": 17,
     "metadata": {},
     "output_type": "execute_result"
    }
   ],
   "source": [
    "# Load your dataset\n",
    "df = pd.read_csv('scraped_quotes.csv')\n",
    "df"
   ]
  },
  {
   "cell_type": "code",
   "execution_count": 19,
   "id": "d13efd36-45d6-4d38-82ab-162c09616657",
   "metadata": {},
   "outputs": [],
   "source": [
    "# Sample column to analyze\n",
    "df['Sentiment'] = df['Quote'].apply(lambda text: TextBlob(text).sentiment.polarity)"
   ]
  },
  {
   "cell_type": "code",
   "execution_count": 11,
   "id": "07291ed1-b795-45a6-9591-3394fd192553",
   "metadata": {},
   "outputs": [],
   "source": [
    "# Create sentiment label\n",
    "def get_sentiment(polarity):\n",
    "    if polarity > 0:\n",
    "        return 'Positive'\n",
    "    elif polarity < 0:\n",
    "        return 'Negative'\n",
    "    else:\n",
    "        return 'Neutral'\n",
    "        "
   ]
  },
  {
   "cell_type": "code",
   "execution_count": 20,
   "id": "83b73d98-42b3-4a1e-9aa2-82f8d7326989",
   "metadata": {},
   "outputs": [],
   "source": [
    "df['Sentiment_Label'] = df['Sentiment'].apply(get_sentiment)"
   ]
  },
  {
   "cell_type": "code",
   "execution_count": 13,
   "id": "87f28ac7-3190-47db-97ce-1ae4c19d09eb",
   "metadata": {},
   "outputs": [
    {
     "name": "stdout",
     "output_type": "stream",
     "text": [
      "                                               Quote  Sentiment  \\\n",
      "0  “The world as we have created it is a process ...   0.000000   \n",
      "1  “It is our choices, Harry, that show what we t...   0.300000   \n",
      "2  “There are only two ways to live your life. On...   0.003788   \n",
      "3  “The person, be it gentleman or lady, who has ...  -0.050000   \n",
      "4  “Imperfection is beauty, madness is genius and...  -0.277778   \n",
      "\n",
      "  Sentiment_Label  \n",
      "0         Neutral  \n",
      "1        Positive  \n",
      "2        Positive  \n",
      "3        Negative  \n",
      "4        Negative  \n"
     ]
    }
   ],
   "source": [
    "# View results\n",
    "print(df[['Quote', 'Sentiment', 'Sentiment_Label']].head())\n"
   ]
  },
  {
   "cell_type": "code",
   "execution_count": 14,
   "id": "536f36b3-5083-40ab-82a6-86dcf63fd33a",
   "metadata": {},
   "outputs": [],
   "source": [
    "# Optional: Save to CSV\n",
    "df.to_csv('quote_sentiments.csv', index=False)"
   ]
  },
  {
   "cell_type": "code",
   "execution_count": 15,
   "id": "3d25a36b-38ba-4daa-bb2f-2c7bd1b2f3e7",
   "metadata": {},
   "outputs": [],
   "source": [
    "import seaborn as sns\n",
    "import matplotlib.pyplot as plt"
   ]
  },
  {
   "cell_type": "code",
   "execution_count": 16,
   "id": "7a9fb716-b9d0-4b34-bf6e-ee678560676d",
   "metadata": {},
   "outputs": [
    {
     "data": {
      "image/png": "[encoded data removed]",
      "text/plain": [
       "<Figure size 640x480 with 1 Axes>"
      ]
     },
     "metadata": {},
     "output_type": "display_data"
    }
   ],
   "source": [
    "# Count of each sentiment type\n",
    "sns.countplot(data=df, x='Sentiment_Label', palette='Set2')\n",
    "plt.title('Sentiment Analysis of Quotes')\n",
    "plt.xlabel('Sentiment')\n",
    "plt.ylabel('Number of Quotes')\n",
    "plt.show()"
   ]
  },
  {
   "cell_type": "code",
   "execution_count": null,
   "id": "0848d72f-ecba-45a1-8f0c-b2c06a07b5c7",
   "metadata": {},
   "outputs": [],
   "source": []
  }
 ],
 "metadata": {
  "kernelspec": {
   "display_name": "Python 3 (ipykernel)",
   "language": "python",
   "name": "python3"
  },
  "language_info": {
   "codemirror_mode": {
    "name": "ipython",
    "version": 3
   },
   "file_extension": ".py",
   "mimetype": "text/x-python",
   "name": "python",
   "nbconvert_exporter": "python",
   "pygments_lexer": "ipython3",
   "version": "3.11.7"
  }
 },
 "nbformat": 4,
 "nbformat_minor": 5
}
